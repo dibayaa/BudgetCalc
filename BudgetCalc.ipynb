{
  "nbformat": 4,
  "nbformat_minor": 0,
  "metadata": {
    "colab": {
      "name": "BudgetCalc.ipynb",
      "provenance": [],
      "collapsed_sections": [],
      "authorship_tag": "ABX9TyOBIzxnfC3oBkzfkW3sHMna",
      "include_colab_link": true
    },
    "kernelspec": {
      "name": "python3",
      "display_name": "Python 3"
    },
    "language_info": {
      "name": "python"
    }
  },
  "cells": [
    {
      "cell_type": "markdown",
      "metadata": {
        "id": "view-in-github",
        "colab_type": "text"
      },
      "source": [
        "<a href=\"https://colab.research.google.com/github/dibayaa/BudgetCalc/blob/main/BudgetCalc.ipynb\" target=\"_parent\"><img src=\"https://colab.research.google.com/assets/colab-badge.svg\" alt=\"Open In Colab\"/></a>"
      ]
    },
    {
      "cell_type": "code",
      "metadata": {
        "colab": {
          "base_uri": "https://localhost:8080/",
          "height": 235
        },
        "id": "fMZCF3xmvWBd",
        "outputId": "06dd8b33-5a46-4031-ce41-4e183a03ee31"
      },
      "source": [
        "import pandas as pd\n",
        "import matplotlib.pyplot as plt\n",
        "\n",
        "#Feature: Read data from an external file, such as text, JSON, CSV, etc and use that data in your application\n",
        "#Feature: Create a dictionary or list, populate it with several values, retrieve at least one value, and use it in your program\n",
        "#Feature: Visualize data in a graph, chart, or other visual representation of data\n",
        "\n",
        "#author: @Anthony Dibaya\n",
        "\n",
        "\n",
        "\n",
        "# read in file\n",
        "df = pd.read_csv('cashflow.csv', index_col ='Date', \n",
        "parse_dates = True)\n",
        "df.head()"
      ],
      "execution_count": 17,
      "outputs": [
        {
          "output_type": "execute_result",
          "data": {
            "text/html": [
              "<div>\n",
              "<style scoped>\n",
              "    .dataframe tbody tr th:only-of-type {\n",
              "        vertical-align: middle;\n",
              "    }\n",
              "\n",
              "    .dataframe tbody tr th {\n",
              "        vertical-align: top;\n",
              "    }\n",
              "\n",
              "    .dataframe thead th {\n",
              "        text-align: right;\n",
              "    }\n",
              "</style>\n",
              "<table border=\"1\" class=\"dataframe\">\n",
              "  <thead>\n",
              "    <tr style=\"text-align: right;\">\n",
              "      <th></th>\n",
              "      <th>Amount</th>\n",
              "      <th>Category</th>\n",
              "      <th>Transaction Type</th>\n",
              "    </tr>\n",
              "    <tr>\n",
              "      <th>Date</th>\n",
              "      <th></th>\n",
              "      <th></th>\n",
              "      <th></th>\n",
              "    </tr>\n",
              "  </thead>\n",
              "  <tbody>\n",
              "    <tr>\n",
              "      <th>2021-03-01</th>\n",
              "      <td>-1000.0</td>\n",
              "      <td>housing</td>\n",
              "      <td>Expense</td>\n",
              "    </tr>\n",
              "    <tr>\n",
              "      <th>2021-03-02</th>\n",
              "      <td>-200.0</td>\n",
              "      <td>groceries</td>\n",
              "      <td>Expense</td>\n",
              "    </tr>\n",
              "    <tr>\n",
              "      <th>2021-03-03</th>\n",
              "      <td>-160.0</td>\n",
              "      <td>car_insurance</td>\n",
              "      <td>Expense</td>\n",
              "    </tr>\n",
              "    <tr>\n",
              "      <th>2021-03-04</th>\n",
              "      <td>-90.0</td>\n",
              "      <td>phone_bill</td>\n",
              "      <td>Expense</td>\n",
              "    </tr>\n",
              "    <tr>\n",
              "      <th>2021-03-05</th>\n",
              "      <td>-50.0</td>\n",
              "      <td>health_insurance</td>\n",
              "      <td>Expense</td>\n",
              "    </tr>\n",
              "  </tbody>\n",
              "</table>\n",
              "</div>"
            ],
            "text/plain": [
              "            Amount          Category Transaction Type\n",
              "Date                                                 \n",
              "2021-03-01 -1000.0           housing          Expense\n",
              "2021-03-02  -200.0         groceries          Expense\n",
              "2021-03-03  -160.0     car_insurance          Expense\n",
              "2021-03-04   -90.0        phone_bill          Expense\n",
              "2021-03-05   -50.0  health_insurance          Expense"
            ]
          },
          "metadata": {
            "tags": []
          },
          "execution_count": 17
        }
      ]
    },
    {
      "cell_type": "code",
      "metadata": {
        "colab": {
          "base_uri": "https://localhost:8080/"
        },
        "id": "UzK5xiK4-bFu",
        "outputId": "94b33a27-2729-4d1e-ebf2-6b2fef60c7aa"
      },
      "source": [
        "# Avg spending per category\n",
        "avg_spending_cat = df.groupby('Category').mean().sort_values(by='Amount')\n",
        "print(avg_spending_cat)"
      ],
      "execution_count": 18,
      "outputs": [
        {
          "output_type": "stream",
          "text": [
            "                  Amount\n",
            "Category                \n",
            "housing          -1000.0\n",
            "debt              -500.0\n",
            "groceries         -200.0\n",
            "car_insurance     -160.0\n",
            "clothing          -100.0\n",
            "savings           -100.0\n",
            "emergency_fund    -100.0\n",
            "stocks            -100.0\n",
            "phone_bill         -90.0\n",
            "health_insurance   -50.0\n",
            "gas                -50.0\n",
            "night_out          -40.0\n",
            "charity            -30.0\n",
            "cc_membership      -20.0\n",
            "gym_membership     -15.0\n",
            "snacks             -15.0\n",
            "netflix             -5.0\n",
            "phone_apps          -5.0\n",
            "dividends           30.0\n",
            "cashflow_re        300.0\n",
            "freelance         1500.0\n",
            "work              3000.0\n"
          ],
          "name": "stdout"
        }
      ]
    },
    {
      "cell_type": "code",
      "metadata": {
        "colab": {
          "base_uri": "https://localhost:8080/"
        },
        "id": "LiIXqA2WLjCA",
        "outputId": "ff755c84-fa26-4e4f-fe67-0ef12960463b"
      },
      "source": [
        "# Sum Expense & Income \n",
        "sum_transactions = df.groupby('Transaction Type').sum().sort_values(by='Amount')\n",
        "print(sum_transactions)"
      ],
      "execution_count": 19,
      "outputs": [
        {
          "output_type": "stream",
          "text": [
            "                  Amount\n",
            "Transaction Type        \n",
            "Expense          -2580.0\n",
            "Income            4830.0\n"
          ],
          "name": "stdout"
        }
      ]
    },
    {
      "cell_type": "code",
      "metadata": {
        "colab": {
          "base_uri": "https://localhost:8080/"
        },
        "id": "K276KklcMMSS",
        "outputId": "9792d20f-7225-415d-d8a9-ff6ff86a4940"
      },
      "source": [
        "# Calculate Savings (sum column \"Amount\" to add expenses vs income; positive = savings)\n",
        "column_name = \"Amount\"\n",
        "calc_savings = df[column_name].sum()\n",
        "print(calc_savings)"
      ],
      "execution_count": 20,
      "outputs": [
        {
          "output_type": "stream",
          "text": [
            "2250.0\n"
          ],
          "name": "stdout"
        }
      ]
    },
    {
      "cell_type": "code",
      "metadata": {
        "colab": {
          "base_uri": "https://localhost:8080/",
          "height": 374
        },
        "id": "sQGg4dI1Ol3J",
        "outputId": "1fd15fcb-3257-4ee6-bef1-2e5eb95bef48"
      },
      "source": [
        "fig, ax = plt.subplots()\n",
        "avg_spending_cat.plot(kind='barh', ax=ax, figsize= (17,6))\n",
        "ax.set_xlabel('Amount', size=20)\n",
        "ax.set_ylabel('Category', size=20);"
      ],
      "execution_count": 21,
      "outputs": [
        {
          "output_type": "display_data",
          "data": {
            "image/png": "[encoded data removed]",
            "text/plain": [
              "<Figure size 1224x432 with 1 Axes>"
            ]
          },
          "metadata": {
            "tags": [],
            "needs_background": "light"
          }
        }
      ]
    },
    {
      "cell_type": "code",
      "metadata": {
        "colab": {
          "base_uri": "https://localhost:8080/",
          "height": 235
        },
        "id": "7fOj8wpevD6g",
        "outputId": "143dc5a6-432e-48a2-e993-586b8d3196c8"
      },
      "source": [
        "#Organize expenses within categories as \"necessary\" or \"unnecessary\" \n",
        "expense_type={\n",
        "    'housing':'necessary',\n",
        "    'groceries':'necessary',\n",
        "    'car_insurance':'necessary',\n",
        "    'phone_bill':'necessary',\n",
        "    'health_insurance':'necessary',\n",
        "    'clothing':'unnecessary',\n",
        "    'debt':'necessary',\n",
        "    'savings':'necessary',\n",
        "    'emergency_fund':'necessary',\n",
        "    'night_out':'unnecessary',\n",
        "    'gas':'necessary',\n",
        "    'snacks':'unnecessary',\n",
        "    'netflix':'unnecessary',\n",
        "    'stocks':'unnecessary',\n",
        "    'gym_membership':'unnecessary',\n",
        "    'phone_apps':'unnecessary',\n",
        "    'cc_membership':'unnecessary',\n",
        "    'charity':'unnecessary'\n",
        "}\n",
        "df['Expense Type'] = df['Category'].map(expense_type)\n",
        "df.head()"
      ],
      "execution_count": 23,
      "outputs": [
        {
          "output_type": "execute_result",
          "data": {
            "text/html": [
              "<div>\n",
              "<style scoped>\n",
              "    .dataframe tbody tr th:only-of-type {\n",
              "        vertical-align: middle;\n",
              "    }\n",
              "\n",
              "    .dataframe tbody tr th {\n",
              "        vertical-align: top;\n",
              "    }\n",
              "\n",
              "    .dataframe thead th {\n",
              "        text-align: right;\n",
              "    }\n",
              "</style>\n",
              "<table border=\"1\" class=\"dataframe\">\n",
              "  <thead>\n",
              "    <tr style=\"text-align: right;\">\n",
              "      <th></th>\n",
              "      <th>Amount</th>\n",
              "      <th>Category</th>\n",
              "      <th>Transaction Type</th>\n",
              "      <th>Expense Type</th>\n",
              "    </tr>\n",
              "    <tr>\n",
              "      <th>Date</th>\n",
              "      <th></th>\n",
              "      <th></th>\n",
              "      <th></th>\n",
              "      <th></th>\n",
              "    </tr>\n",
              "  </thead>\n",
              "  <tbody>\n",
              "    <tr>\n",
              "      <th>2021-03-01</th>\n",
              "      <td>-1000.0</td>\n",
              "      <td>housing</td>\n",
              "      <td>Expense</td>\n",
              "      <td>necessary</td>\n",
              "    </tr>\n",
              "    <tr>\n",
              "      <th>2021-03-02</th>\n",
              "      <td>-200.0</td>\n",
              "      <td>groceries</td>\n",
              "      <td>Expense</td>\n",
              "      <td>necessary</td>\n",
              "    </tr>\n",
              "    <tr>\n",
              "      <th>2021-03-03</th>\n",
              "      <td>-160.0</td>\n",
              "      <td>car_insurance</td>\n",
              "      <td>Expense</td>\n",
              "      <td>necessary</td>\n",
              "    </tr>\n",
              "    <tr>\n",
              "      <th>2021-03-04</th>\n",
              "      <td>-90.0</td>\n",
              "      <td>phone_bill</td>\n",
              "      <td>Expense</td>\n",
              "      <td>necessary</td>\n",
              "    </tr>\n",
              "    <tr>\n",
              "      <th>2021-03-05</th>\n",
              "      <td>-50.0</td>\n",
              "      <td>health_insurance</td>\n",
              "      <td>Expense</td>\n",
              "      <td>necessary</td>\n",
              "    </tr>\n",
              "  </tbody>\n",
              "</table>\n",
              "</div>"
            ],
            "text/plain": [
              "            Amount          Category Transaction Type Expense Type\n",
              "Date                                                              \n",
              "2021-03-01 -1000.0           housing          Expense    necessary\n",
              "2021-03-02  -200.0         groceries          Expense    necessary\n",
              "2021-03-03  -160.0     car_insurance          Expense    necessary\n",
              "2021-03-04   -90.0        phone_bill          Expense    necessary\n",
              "2021-03-05   -50.0  health_insurance          Expense    necessary"
            ]
          },
          "metadata": {
            "tags": []
          },
          "execution_count": 23
        }
      ]
    },
    {
      "cell_type": "code",
      "metadata": {
        "colab": {
          "base_uri": "https://localhost:8080/",
          "height": 173
        },
        "id": "yDeGTvFlzhrk",
        "outputId": "d7d9cfa5-5b5d-4e98-fa5b-3e14742eb684"
      },
      "source": [
        "# Calculate Descriptive Statistics for each expense type (NEEDS WORK)\n",
        "\n",
        "df.groupby('Expense Type').describe()"
      ],
      "execution_count": 25,
      "outputs": [
        {
          "output_type": "execute_result",
          "data": {
            "text/html": [
              "<div>\n",
              "<style scoped>\n",
              "    .dataframe tbody tr th:only-of-type {\n",
              "        vertical-align: middle;\n",
              "    }\n",
              "\n",
              "    .dataframe tbody tr th {\n",
              "        vertical-align: top;\n",
              "    }\n",
              "\n",
              "    .dataframe thead tr th {\n",
              "        text-align: left;\n",
              "    }\n",
              "\n",
              "    .dataframe thead tr:last-of-type th {\n",
              "        text-align: right;\n",
              "    }\n",
              "</style>\n",
              "<table border=\"1\" class=\"dataframe\">\n",
              "  <thead>\n",
              "    <tr>\n",
              "      <th></th>\n",
              "      <th colspan=\"8\" halign=\"left\">Amount</th>\n",
              "    </tr>\n",
              "    <tr>\n",
              "      <th></th>\n",
              "      <th>count</th>\n",
              "      <th>mean</th>\n",
              "      <th>std</th>\n",
              "      <th>min</th>\n",
              "      <th>25%</th>\n",
              "      <th>50%</th>\n",
              "      <th>75%</th>\n",
              "      <th>max</th>\n",
              "    </tr>\n",
              "    <tr>\n",
              "      <th>Expense Type</th>\n",
              "      <th></th>\n",
              "      <th></th>\n",
              "      <th></th>\n",
              "      <th></th>\n",
              "      <th></th>\n",
              "      <th></th>\n",
              "      <th></th>\n",
              "      <th></th>\n",
              "    </tr>\n",
              "  </thead>\n",
              "  <tbody>\n",
              "    <tr>\n",
              "      <th>necessary</th>\n",
              "      <td>9.0</td>\n",
              "      <td>-250.000000</td>\n",
              "      <td>313.488437</td>\n",
              "      <td>-1000.0</td>\n",
              "      <td>-200.0</td>\n",
              "      <td>-100.0</td>\n",
              "      <td>-90.0</td>\n",
              "      <td>-50.0</td>\n",
              "    </tr>\n",
              "    <tr>\n",
              "      <th>unnecessary</th>\n",
              "      <td>9.0</td>\n",
              "      <td>-36.666667</td>\n",
              "      <td>37.583241</td>\n",
              "      <td>-100.0</td>\n",
              "      <td>-40.0</td>\n",
              "      <td>-20.0</td>\n",
              "      <td>-15.0</td>\n",
              "      <td>-5.0</td>\n",
              "    </tr>\n",
              "  </tbody>\n",
              "</table>\n",
              "</div>"
            ],
            "text/plain": [
              "             Amount                                                          \n",
              "              count        mean         std     min    25%    50%   75%   max\n",
              "Expense Type                                                                 \n",
              "necessary       9.0 -250.000000  313.488437 -1000.0 -200.0 -100.0 -90.0 -50.0\n",
              "unnecessary     9.0  -36.666667   37.583241  -100.0  -40.0  -20.0 -15.0  -5.0"
            ]
          },
          "metadata": {
            "tags": []
          },
          "execution_count": 25
        }
      ]
    }
  ]
}